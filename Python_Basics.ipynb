{
  "nbformat": 4,
  "nbformat_minor": 0,
  "metadata": {
    "colab": {
      "provenance": []
    },
    "kernelspec": {
      "name": "python3",
      "display_name": "Python 3"
    },
    "language_info": {
      "name": "python"
    }
  },
  "cells": [
    {
      "cell_type": "markdown",
      "source": [
        "1) What is Python, and why is it popular?\n",
        "   - Python is a high-level, interpreted programming language created by Guido van Rossum in 1991. It's designed with simple, readable syntax that resembles English, making it easy to learn and write. Python is versatile and can be used for web development, data science, artificial intelligence, automation, desktop applications, and more. It's popular because of its simplicity, extensive libraries, strong community support, and cross-platform compatibility.\n",
        "   "
      ],
      "metadata": {
        "id": "GQ4a-WcVdnFY"
      }
    },
    {
      "cell_type": "markdown",
      "source": [
        "2) What is an interpreter in Python?\n",
        "  - An interpreter is a program that reads and executes Python code line by line, directly translating it into machine language without creating a separate compiled file.Unlike compiled languages that convert the entire code into machine code before running, Python's interpreter processes each line of code as it encounters it during execution. This makes Python code portable across different operating systems and allows for interactive programming, but can make execution slightly slower than compiled languages.\n"
      ],
      "metadata": {
        "id": "wzIllbUkGHUx"
      }
    },
    {
      "cell_type": "markdown",
      "source": [
        " 3) What are pre-defined keywords in Python?\n",
        "    - Pre-defined keywords in python are reserved words that have special meanings and cannot be used as variable names, function names, or identifiers. These keywords are built into the Python language and define its syntax and structure, such as if, else, for, while, def, class, import, return, etc."
      ],
      "metadata": {
        "id": "2318CqVoHTE8"
      }
    },
    {
      "cell_type": "markdown",
      "source": [
        "4)  Can keywords be used as variable names?\n",
        "    - No, keywords cannot be used as variable names.Attempting to use them as variable names will result in a syntax error."
      ],
      "metadata": {
        "id": "zGKH-T2dHrNV"
      }
    },
    {
      "cell_type": "markdown",
      "source": [
        "5) What is mutability in Python?\n",
        "    - Mutability refers to whether an object's content can be changed after it is created. Mutable objects (like lists, dictionaries, sets) can be modified - where we can add, remove, or change their contents directly."
      ],
      "metadata": {
        "id": "0RoWn_hyIcUl"
      }
    },
    {
      "cell_type": "markdown",
      "source": [
        "6) Why are lists mutable, but tuples are immutable?\n",
        "    - Basically this is a design by Python's creators to serve different purposes.Lists in Python are mutable because they are implemented as dynamic arrays that allow resizing and modification of elements. Tuples are immutable, stored in a fixed-size memory block, making them faster, memory-efficient, and hashable (usable as dictionary keys). This design choice lets lists handle flexible collections, while tuples represent stable, fixed data structures."
      ],
      "metadata": {
        "id": "RFNO3ovkKxWZ"
      }
    },
    {
      "cell_type": "markdown",
      "source": [
        "7) What is the difference between “==” and “is” operators in Python?\n",
        "    - The \"==\" operator checks if two objects have the same value, while \"is\" checks if two variables point to the same object in memory (i.e.identity). \"==\" compares what's inside the objects, but \"is\" compares whether they're literally the same object."
      ],
      "metadata": {
        "id": "qeydNI7PNAv_"
      }
    },
    {
      "cell_type": "markdown",
      "source": [
        "8) What are logical operators in Python?\n",
        "   - Logical operators are used to combine or modify boolean expressions and return True or False. Python has 3 main logical operators:\n",
        "   and (returns True only if both conditions are true),\n",
        "   or (returns True if at least one condition is true), and\n",
        "   not (reverses the boolean value - True becomes False and vice versa)"
      ],
      "metadata": {
        "id": "6VGRVfn-NwZu"
      }
    },
    {
      "cell_type": "markdown",
      "source": [
        "9) What is type casting in Python?\n",
        "   - Type casting is the process of converting one data type to another. In python there are several built-in functions like int(), float(), str(), list(), tuple() to convert between different data types when needed."
      ],
      "metadata": {
        "id": "V27UlERlOiE3"
      }
    },
    {
      "cell_type": "markdown",
      "source": [
        "10) What is the difference between implicit and explicit type casting?\n",
        "    - Implicit type casting is automatic conversion done by Python without programmer intervention, where Python automatically converts a smaller data type to a larger one to prevent data loss (like int to float during mixed operations).\n",
        "    - Explicit type casting is manual conversion done by the programmer using built-in functions like int(), str(), float(), where we deliberately specify what type we want.\n",
        "    - Implicit casting only works when there's no risk of data loss, while explicit casting can potentially lose data or cause errors if the conversion is invalid. Explicit casting gives us full control but requires us to handle potential conversion errors."
      ],
      "metadata": {
        "id": "T3tgWg2MPEgV"
      }
    },
    {
      "cell_type": "markdown",
      "source": [
        "11) What is the purpose of conditional statements in Python?\n",
        "    - Conditional statements allow programs to make decisions and execute different code blocks based on whether certain conditions are true or false. They control the flow of program execution by testing conditions using if, elif, and else keywords, enabling the program to respond differently to various inputs or situations. This decision-making capability is essential for creating interactive and intelligent programs that can handle multiple scenarios, validate user input, implement business logic, and create branching paths in code execution. Without conditional statements, programs would only execute linearly without any ability to adapt or respond to changing conditions."
      ],
      "metadata": {
        "id": "3vglAeg7QOct"
      }
    },
    {
      "cell_type": "markdown",
      "source": [
        "12) How does the elif statement work?\n",
        "    - An elif statement is used to check multiple conditions after an initial if statement. It is short for \"else if\" and allows us to chain together a series of conditional checks. The code block under an elif only runs if its condition is True and all previous conditions in the chain were False. It provides a clean, efficient alternative to writing multiple separate if statements or deep nested else blocks."
      ],
      "metadata": {
        "id": "fw5vS2CDimM_"
      }
    },
    {
      "cell_type": "markdown",
      "source": [
        "13) What is the difference between for and while loops?\n",
        "    - A **for** loop is used for definite iteration, which meanswe can use it when we know beforehand how many times we need to iterate, typically to run through each item in a predefined sequence (like a list, string, or range).\n",
        "    - A **while** loop is used for indefinite iteration, meaning that it repeats as long as a given condition remains True, and the number of iterations isn't known initially.\n",
        "    - We choose a **for** loop to iterate over a known set of items and a **while** loop to repeat until a specific condition changes."
      ],
      "metadata": {
        "id": "YxGMlyl8kNyl"
      }
    },
    {
      "cell_type": "markdown",
      "source": [
        "14) Describe a scenario where a while loop is more suitable than a for loop.\n",
        "    - A best scenario is user input validation. Here the program must repeatedly ask the user for input until they provide a valid response. As we cannot predict how many attempts it will take, making a for loop impractical.    \n",
        "    example:\n",
        "\n",
        "    user_input = \"\"\n",
        "\n",
        "    while user_input.lower() != \"yes\":\n",
        "\n",
        "           user_input = input(\"Please enter 'yes' to continue: \")"
      ],
      "metadata": {
        "id": "w8c_NWO5lhl_"
      }
    },
    {
      "cell_type": "markdown",
      "source": [
        "#Practical Questions"
      ],
      "metadata": {
        "id": "0KYnZI-onq9y"
      }
    },
    {
      "cell_type": "markdown",
      "source": [
        "1) Write a Python program to print \"Hello, World!\""
      ],
      "metadata": {
        "id": "ErFsYg5XnklA"
      }
    },
    {
      "cell_type": "code",
      "execution_count": 1,
      "metadata": {
        "id": "yFJQOZBHQLWZ",
        "colab": {
          "base_uri": "https://localhost:8080/"
        },
        "outputId": "da3407cc-49a5-46c3-b0fe-24f348ea26f8"
      },
      "outputs": [
        {
          "output_type": "stream",
          "name": "stdout",
          "text": [
            "Hello, World!\n"
          ]
        }
      ],
      "source": [
        "print(\"Hello, World!\")"
      ]
    },
    {
      "cell_type": "markdown",
      "source": [
        "2) Write a Python program that displays your name and age?"
      ],
      "metadata": {
        "id": "gad7r-P5n5I0"
      }
    },
    {
      "cell_type": "code",
      "source": [
        "name=\"Dharmateja\"\n",
        "age=22\n",
        "print(f\"My name is {name} and age is {age}.\" )"
      ],
      "metadata": {
        "colab": {
          "base_uri": "https://localhost:8080/"
        },
        "id": "Xd0vi2-Qnz8a",
        "outputId": "de665053-0589-42c1-ca8a-e8b2f965adf8"
      },
      "execution_count": 3,
      "outputs": [
        {
          "output_type": "stream",
          "name": "stdout",
          "text": [
            "My name is Dharmateja and age is 22.\n"
          ]
        }
      ]
    },
    {
      "cell_type": "markdown",
      "source": [
        "3) Write code to print all the pre-defined keywords in Python using the keyword library?"
      ],
      "metadata": {
        "id": "rL8MjHxwobK7"
      }
    },
    {
      "cell_type": "code",
      "source": [
        "!pip install keyword\n",
        "import keyword\n",
        "print(keyword.kwlist)\n"
      ],
      "metadata": {
        "colab": {
          "base_uri": "https://localhost:8080/"
        },
        "id": "KlJP7rNUoUsw",
        "outputId": "ff264049-2c9f-4e79-bded-5dc25f8c577a"
      },
      "execution_count": 13,
      "outputs": [
        {
          "output_type": "stream",
          "name": "stdout",
          "text": [
            "\u001b[31mERROR: Could not find a version that satisfies the requirement keyword (from versions: none)\u001b[0m\u001b[31m\n",
            "\u001b[0m\u001b[31mERROR: No matching distribution found for keyword\u001b[0m\u001b[31m\n",
            "\u001b[0m['False', 'None', 'True', 'and', 'as', 'assert', 'async', 'await', 'break', 'class', 'continue', 'def', 'del', 'elif', 'else', 'except', 'finally', 'for', 'from', 'global', 'if', 'import', 'in', 'is', 'lambda', 'nonlocal', 'not', 'or', 'pass', 'raise', 'return', 'try', 'while', 'with', 'yield']\n"
          ]
        }
      ]
    },
    {
      "cell_type": "markdown",
      "source": [
        "4) Write a program that checks if a given word is a Python keyword?"
      ],
      "metadata": {
        "id": "TiSpPg5pqbkc"
      }
    },
    {
      "cell_type": "code",
      "source": [
        "x=input(\"enter the word:\")\n",
        "if x in keyword.kwlist:\n",
        "  print(f\"{x} is a keyword\")\n",
        "else:\n",
        "  print(\"Not a keyword\")"
      ],
      "metadata": {
        "colab": {
          "base_uri": "https://localhost:8080/"
        },
        "id": "SG8pAk0rofvO",
        "outputId": "36fc86cc-e4ee-45f2-8e7f-ba83eb01c540"
      },
      "execution_count": 18,
      "outputs": [
        {
          "output_type": "stream",
          "name": "stdout",
          "text": [
            "enter the word:def\n",
            "def is a keyword\n"
          ]
        }
      ]
    },
    {
      "cell_type": "markdown",
      "source": [
        "5)  Create a list and tuple in Python, and demonstrate how attempting to  change an element works differently for each."
      ],
      "metadata": {
        "id": "GoqwHN7ArbzS"
      }
    },
    {
      "cell_type": "code",
      "source": [
        "list1=[2,3,4,\"teja\",True,454,\"dharma\"]\n",
        "tup1=(2,3,4,\"teja\",True,454,\"dharma\")"
      ],
      "metadata": {
        "id": "8VwQlk6-rDQz"
      },
      "execution_count": 19,
      "outputs": []
    },
    {
      "cell_type": "markdown",
      "source": [
        "-  List is a mutable data structure whereas tuple is immutable.We can able to change the elements present in list but not tuple.In order to change the elements in tuple first we need to convert it to list and do required operation and convert again back to tuple.\n"
      ],
      "metadata": {
        "id": "uq-UJuQTstar"
      }
    },
    {
      "cell_type": "code",
      "source": [
        "list1[2]=95\n",
        "print(list1)"
      ],
      "metadata": {
        "colab": {
          "base_uri": "https://localhost:8080/"
        },
        "id": "49cQ6B8zspKB",
        "outputId": "491d2310-ff6b-4c00-f23d-1bcebc1eafd9"
      },
      "execution_count": 20,
      "outputs": [
        {
          "output_type": "stream",
          "name": "stdout",
          "text": [
            "[2, 3, 95, 'teja', True, 454, 'dharma']\n"
          ]
        }
      ]
    },
    {
      "cell_type": "code",
      "source": [
        "tup1[2]=\"ram\""
      ],
      "metadata": {
        "colab": {
          "base_uri": "https://localhost:8080/",
          "height": 141
        },
        "id": "Hh_DqsN3s-A7",
        "outputId": "4f2e492c-3036-4b23-8ac6-b5261796c60b"
      },
      "execution_count": 21,
      "outputs": [
        {
          "output_type": "error",
          "ename": "TypeError",
          "evalue": "'tuple' object does not support item assignment",
          "traceback": [
            "\u001b[0;31m---------------------------------------------------------------------------\u001b[0m",
            "\u001b[0;31mTypeError\u001b[0m                                 Traceback (most recent call last)",
            "\u001b[0;32m/tmp/ipython-input-4072443874.py\u001b[0m in \u001b[0;36m<cell line: 0>\u001b[0;34m()\u001b[0m\n\u001b[0;32m----> 1\u001b[0;31m \u001b[0mtup1\u001b[0m\u001b[0;34m[\u001b[0m\u001b[0;36m2\u001b[0m\u001b[0;34m]\u001b[0m\u001b[0;34m=\u001b[0m\u001b[0;34m\"ram\"\u001b[0m\u001b[0;34m\u001b[0m\u001b[0;34m\u001b[0m\u001b[0m\n\u001b[0m",
            "\u001b[0;31mTypeError\u001b[0m: 'tuple' object does not support item assignment"
          ]
        }
      ]
    },
    {
      "cell_type": "code",
      "source": [
        "list2=list(tup1)\n",
        "print(list2)\n",
        "list2[4]=\"raghu\"\n",
        "tup1=tuple(list2)\n",
        "print(tup1)"
      ],
      "metadata": {
        "colab": {
          "base_uri": "https://localhost:8080/"
        },
        "id": "fzf6yVgUtGYr",
        "outputId": "ddd3f5ae-b726-48d0-bccd-a69dbc173e26"
      },
      "execution_count": 23,
      "outputs": [
        {
          "output_type": "stream",
          "name": "stdout",
          "text": [
            "[2, 3, 4, 'teja', True, 454, 'dharma']\n",
            "(2, 3, 4, 'teja', 'raghu', 454, 'dharma')\n"
          ]
        }
      ]
    },
    {
      "cell_type": "markdown",
      "source": [
        "6)  Write a function to demonstrate the behavior of mutable and immutable arguments?"
      ],
      "metadata": {
        "id": "c69RC2k_uP9N"
      }
    },
    {
      "cell_type": "code",
      "source": [
        "\n",
        "def test_function(number, my_list):\n",
        "    number = 100\n",
        "    my_list.append(100)\n",
        "\n",
        "original_number = 5\n",
        "original_list = [1, 2, 3]\n",
        "\n",
        "print(\"Before:\", original_number, original_list)\n",
        "test_function(original_number, original_list)\n",
        "print(\"After:\", original_number, original_list)"
      ],
      "metadata": {
        "colab": {
          "base_uri": "https://localhost:8080/"
        },
        "id": "43wrpAP1E9et",
        "outputId": "5244c343-eef6-464e-a7bb-5e816af71664"
      },
      "execution_count": 57,
      "outputs": [
        {
          "output_type": "stream",
          "name": "stdout",
          "text": [
            "Before: 5 [1, 2, 3]\n",
            "After: 5 [1, 2, 3, 100]\n"
          ]
        }
      ]
    },
    {
      "cell_type": "markdown",
      "source": [
        "7)  Write a program that performs basic arithmetic operations on two user-input numbers."
      ],
      "metadata": {
        "id": "2YLbQBeGuZa2"
      }
    },
    {
      "cell_type": "code",
      "source": [
        "x=int(input(\"Enter the first number:\"))\n",
        "y=int(input(\"Enter the second number:\"))\n",
        "print(f\"multiplication of {x} and {y} is {x*y}\")"
      ],
      "metadata": {
        "colab": {
          "base_uri": "https://localhost:8080/"
        },
        "id": "ryq7zle5te8X",
        "outputId": "67b4dea2-da64-430f-8af6-ff0bfa449f0d"
      },
      "execution_count": 24,
      "outputs": [
        {
          "output_type": "stream",
          "name": "stdout",
          "text": [
            "Enter the first number:23\n",
            "Enter the second number:45\n",
            "multiplication of 23 and 45 is 1035\n"
          ]
        }
      ]
    },
    {
      "cell_type": "markdown",
      "source": [
        "8) Write a program to demonstrate the use of logical operators?\n",
        "\n",
        "\n",
        "\n"
      ],
      "metadata": {
        "id": "gSGk8Zsxvbbc"
      }
    },
    {
      "cell_type": "code",
      "source": [
        "x=5\n",
        "y=10\n",
        "print(f\"x:{x}, y:{y}\")\n",
        "print(f\"x>8 and y<15 is {x>8 and y<15}\")\n",
        "print(f\"x>8 or y<15 is {x>8 or y<15}\")\n",
        "print(f\"not(x>8) is {not(x>8)}\")\n"
      ],
      "metadata": {
        "colab": {
          "base_uri": "https://localhost:8080/"
        },
        "id": "3ExhVdAfyJ38",
        "outputId": "f07f3655-9905-4c34-980f-de79f2bd450e"
      },
      "execution_count": 34,
      "outputs": [
        {
          "output_type": "stream",
          "name": "stdout",
          "text": [
            "x:5, y:10\n",
            "x>8 and y<15 is False\n",
            "x>8 or y<15 is True\n",
            "not(x>8) is True\n"
          ]
        }
      ]
    },
    {
      "cell_type": "markdown",
      "source": [
        "9) Write a Python program to convert user input from string to integer, float, and boolean types."
      ],
      "metadata": {
        "id": "oKQJ6cZhvuNr"
      }
    },
    {
      "cell_type": "code",
      "source": [
        "x=input(\"Enter the number:\")\n",
        "int_value=int(x)\n",
        "float_value=float(x)\n",
        "boolean_value=bool(x)\n",
        "print(f\"int_value:{int_value}, float_value:{float_value}, boolean_value:{boolean_value}\")"
      ],
      "metadata": {
        "colab": {
          "base_uri": "https://localhost:8080/"
        },
        "id": "XaKgarDfu8gZ",
        "outputId": "a82a3f8c-a4e0-43e4-c9a0-cb3d13c601e2"
      },
      "execution_count": 29,
      "outputs": [
        {
          "output_type": "stream",
          "name": "stdout",
          "text": [
            "Enter the number:65451\n",
            "int_value:65451, float_value:65451.0, boolean_value:True\n"
          ]
        }
      ]
    },
    {
      "cell_type": "markdown",
      "source": [
        "10) Write code to demonstrate type casting with list elements.\n",
        "\n",
        "\n"
      ],
      "metadata": {
        "id": "29LcMj4_0bmD"
      }
    },
    {
      "cell_type": "markdown",
      "source": [
        "Assuming that need to convert each element of list to different data type not to convert list to other data type."
      ],
      "metadata": {
        "id": "6-MSa9yoJ53d"
      }
    },
    {
      "cell_type": "code",
      "source": [
        "x=[\"1\",\"2\",\"3\",\"4\",\"5\",\"6\",\"7\",\"8\"]\n",
        "integer= [int(a) for a in x]\n",
        "print(integer)\n",
        "float1=[float(a) for a in x]\n",
        "print(float1)\n",
        "boolean=[bool(a) for a in x]\n",
        "print(boolean)"
      ],
      "metadata": {
        "colab": {
          "base_uri": "https://localhost:8080/"
        },
        "id": "L-IuJPKQJNV5",
        "outputId": "3b2d8662-f50f-4e47-e5ed-f6d46dfe28c7"
      },
      "execution_count": 63,
      "outputs": [
        {
          "output_type": "stream",
          "name": "stdout",
          "text": [
            "[1, 2, 3, 4, 5, 6, 7, 8]\n",
            "[1.0, 2.0, 3.0, 4.0, 5.0, 6.0, 7.0, 8.0]\n",
            "[True, True, True, True, True, True, True, True]\n"
          ]
        }
      ]
    },
    {
      "cell_type": "markdown",
      "source": [
        "11) Write a program that checks if a number is positive, negative, or zero."
      ],
      "metadata": {
        "id": "gb0mzkEs0gGh"
      }
    },
    {
      "cell_type": "code",
      "source": [
        "x=int(input(\"Enter the number:\"))\n",
        "\n",
        "if x>0:\n",
        "  print(f\"{x} is positive\")\n",
        "elif x<0:\n",
        "  print(f\"{x} is negative\")\n",
        "else:\n",
        "  print(f\"{x} is zero\")"
      ],
      "metadata": {
        "colab": {
          "base_uri": "https://localhost:8080/"
        },
        "id": "neMV9tyiv7by",
        "outputId": "15e03def-ea29-420f-e7c7-50787db237ae"
      },
      "execution_count": 37,
      "outputs": [
        {
          "output_type": "stream",
          "name": "stdout",
          "text": [
            "Enter the number:0\n",
            "0 is zero\n"
          ]
        }
      ]
    },
    {
      "cell_type": "markdown",
      "source": [
        "12) Write a for loop to print numbers from 1 to 10."
      ],
      "metadata": {
        "id": "u5xj_S3L08rL"
      }
    },
    {
      "cell_type": "code",
      "source": [
        "for x in range(1,11):\n",
        "  print(x ,end=\" \")"
      ],
      "metadata": {
        "colab": {
          "base_uri": "https://localhost:8080/"
        },
        "id": "n1H8bI5M0zuF",
        "outputId": "682db9e2-1e3f-4789-f883-f797b1bc15f6"
      },
      "execution_count": 42,
      "outputs": [
        {
          "output_type": "stream",
          "name": "stdout",
          "text": [
            "1 2 3 4 5 6 7 8 9 10 "
          ]
        }
      ]
    },
    {
      "cell_type": "markdown",
      "source": [
        "13)  Write a Python program to find the sum of all even numbers between 1 and 50."
      ],
      "metadata": {
        "id": "qqtl1BHx1SUx"
      }
    },
    {
      "cell_type": "code",
      "source": [
        "y=0\n",
        "for x in range(1,51):\n",
        "  if x%2==0:\n",
        "    y +=x\n",
        "print(y)"
      ],
      "metadata": {
        "colab": {
          "base_uri": "https://localhost:8080/"
        },
        "id": "2IynjgyU1D9z",
        "outputId": "2100f361-ac2e-46cb-b933-cc49766d7101"
      },
      "execution_count": 43,
      "outputs": [
        {
          "output_type": "stream",
          "name": "stdout",
          "text": [
            "650\n"
          ]
        }
      ]
    },
    {
      "cell_type": "markdown",
      "source": [
        "14) Write a program to reverse a string using a while loop."
      ],
      "metadata": {
        "id": "8GPlWwXy2IBd"
      }
    },
    {
      "cell_type": "code",
      "source": [
        "x=[1,2,5,3,78,34,54,23]\n",
        "a=[]\n",
        "i=len(x)-1\n",
        "while i>-1:\n",
        "  a.append(x[i])\n",
        "  i-=1\n",
        "print(a)"
      ],
      "metadata": {
        "colab": {
          "base_uri": "https://localhost:8080/"
        },
        "id": "Gsg5EqOI4lHT",
        "outputId": "add0a351-a9ec-4d2a-bc6d-6646056aefe2"
      },
      "execution_count": 52,
      "outputs": [
        {
          "output_type": "stream",
          "name": "stdout",
          "text": [
            "[23, 54, 34, 78, 3, 5, 2, 1]\n"
          ]
        }
      ]
    },
    {
      "cell_type": "markdown",
      "source": [
        "15) Write a Python program to calculate the factorial of a number provided by the user using a while loop."
      ],
      "metadata": {
        "id": "Oimpghti9TUR"
      }
    },
    {
      "cell_type": "code",
      "source": [
        "x=int(input(\"Enter the number:\"))\n",
        "a=1\n",
        "if x==0 or x==1:\n",
        "  print(f\"factorial of {x} is 1\")\n",
        "\n",
        "else:\n",
        "  while x>0:\n",
        "    a*=x\n",
        "    x-=1\n",
        "  print(f'factorial of given number is {a}')"
      ],
      "metadata": {
        "colab": {
          "base_uri": "https://localhost:8080/"
        },
        "id": "Tx5wgQL8_dGZ",
        "outputId": "f6540454-37e4-459a-d485-cd1047f835a4"
      },
      "execution_count": 55,
      "outputs": [
        {
          "output_type": "stream",
          "name": "stdout",
          "text": [
            "Enter the number:6\n",
            "factorial of given number is 720\n"
          ]
        }
      ]
    },
    {
      "cell_type": "code",
      "source": [],
      "metadata": {
        "id": "sxsduv--CJZq"
      },
      "execution_count": 55,
      "outputs": []
    }
  ]
}